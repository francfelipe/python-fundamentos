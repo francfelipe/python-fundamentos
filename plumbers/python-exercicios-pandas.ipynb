{
 "cells": [
  {
   "cell_type": "markdown",
   "metadata": {},
   "source": [
    "# Pandas Exercícios"
   ]
  },
  {
   "cell_type": "markdown",
   "metadata": {},
   "source": [
    "Contexto: Iremos simular a realização de uma prova de redação a nível nacional. Sendo assim:"
   ]
  },
  {
   "cell_type": "markdown",
   "metadata": {},
   "source": [
    "1. Cria um dataframe pandas com 1000 amostras em cada uma das seguintes colunas: <br>\n",
    "1.1. Idade: números inteiros aleatórios entre 0 e 100 (inclusos). <br>\n",
    "1.2. Data: datas aleatórias entre 01/01/2000 até 31/01/2000. <br>\n",
    "1.3. Nota: Números decimais entre 0 e 1000. <br>\n",
    "1.4. Sexo: Valores aleatórios de M ou F. <br>\n",
    "1.5: Estado: Valores aleatórios entre os estados do Brasil. <br>"
   ]
  },
  {
   "cell_type": "markdown",
   "metadata": {},
   "source": [
    "2. Utilizando pandas, realize as seguintes alterações no dataset:<br>\n",
    "2.1. Preencha as notas nulas com valor 0, simulando uma atribuição automática do sistema.<br>\n",
    "2.2. Preencha as notas nulas com valor 0, simulando uma atribuição automática do sistema.<br>\n",
    "2.3. Remova alunos com idades inferiores a 18 e superiores a 80, simulando uma filtragem automática do sistema para alunos com idades incosistentes.<br>\n",
    "2.4. Crie um novo campo de aprovado para os alunos restantes que obtiveram nota igual ou superior a 600. Simulando uma correção automática.<br>\n",
    "2.5. Crie um campo novo indicando o dia da semana para todas as datas.<br>\n"
   ]
  },
  {
   "cell_type": "markdown",
   "metadata": {},
   "source": [
    "3. Gere um relatório com os seguintes tópicos:<br>\n",
    "3.1. Tabela cruzada de participantes de cada sexo por estado.<br>\n",
    "3.2. Gráfico de pizza da quantidade de aprovados por sexo, e um de barras com a quantidade de aprovados por estado.<br>\n",
    "3.3. Gráfico de pontos de nota por idade, colorindo por sexo.<br>\n",
    "3.3.1. Gráfico de barras com a participação por dia da semana e por dia do mês.<br>\n",
    "3.3.2. Gráfico de pontos das notas por dia da semana.<br>\n"
   ]
  },
  {
   "cell_type": "markdown",
   "metadata": {},
   "source": [
    "4. Salve um arquivo csv com as notas dos 100 melhores alunos ordenados da melhor nota para a pior nota."
   ]
  },
  {
   "cell_type": "markdown",
   "metadata": {},
   "source": []
  }
 ],
 "metadata": {
  "language_info": {
   "name": "python"
  }
 },
 "nbformat": 4,
 "nbformat_minor": 2
}
