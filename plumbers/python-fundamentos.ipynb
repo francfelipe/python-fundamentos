{
 "cells": [
  {
   "cell_type": "markdown",
   "metadata": {},
   "source": [
    "# Python Fundamentos"
   ]
  },
  {
   "cell_type": "markdown",
   "metadata": {},
   "source": [
    "## Variáveis"
   ]
  },
  {
   "cell_type": "code",
   "execution_count": 23,
   "metadata": {},
   "outputs": [
    {
     "data": {
      "text/plain": [
       "'biscoito'"
      ]
     },
     "execution_count": 23,
     "metadata": {},
     "output_type": "execute_result"
    }
   ],
   "source": [
    "# Vamos fazer uma receita de bolo para o almoço de domingo\n",
    "receita = 'biscoito' # essa é a receita do dia\n",
    "receita"
   ]
  },
  {
   "cell_type": "code",
   "execution_count": 24,
   "metadata": {},
   "outputs": [
    {
     "data": {
      "text/plain": [
       "\"cookies 'n Cream\""
      ]
     },
     "execution_count": 24,
     "metadata": {},
     "output_type": "execute_result"
    }
   ],
   "source": [
    "# Pode ser assim \n",
    "receita = \"cookies 'n Cream\" # essa é a receita do dia\n",
    "receita"
   ]
  },
  {
   "cell_type": "code",
   "execution_count": 25,
   "metadata": {},
   "outputs": [],
   "source": [
    "# podemos ter variáveis vaizias \n",
    "geladeira = None\n",
    "geladeira"
   ]
  },
  {
   "cell_type": "markdown",
   "metadata": {},
   "source": [
    "**Importante**\n",
    "- Nomes de variáveis podem contem letras e/ou números (alfanuméricos), e/ou underscore (_);\n",
    "- não pode começar com dígitos\n",
    "- evite caracteres acentuados e outros símbolos\n",
    "- podem ser longos"
   ]
  },
  {
   "cell_type": "code",
   "execution_count": 26,
   "metadata": {},
   "outputs": [
    {
     "data": {
      "text/plain": [
       "0"
      ]
     },
     "execution_count": 26,
     "metadata": {},
     "output_type": "execute_result"
    }
   ],
   "source": [
    "_geladeira = 0\n",
    "_geladeira"
   ]
  },
  {
   "cell_type": "markdown",
   "metadata": {},
   "source": [
    "## Tipo de dados"
   ]
  },
  {
   "cell_type": "markdown",
   "metadata": {},
   "source": [
    "Texto -> strings (str) <br>\n",
    "numeros -> integer (int) <br>\n",
    "decimais -> float (float) <br>\n",
    "Nulo -> None <br>\n",
    "Booleano (verdadeiro ou falso) -> bool <br>"
   ]
  },
  {
   "cell_type": "code",
   "execution_count": 27,
   "metadata": {},
   "outputs": [],
   "source": [
    "geladeira = None # Geladeira está vazia"
   ]
  },
  {
   "cell_type": "markdown",
   "metadata": {},
   "source": [
    "Ingrediantes\n",
    "\n",
    "- 3 xícaras de chá de farinha de trigo\n",
    "- 1 xícara de chá de manteiga sem sal à temperatura ambiente\n",
    "- 1 xícara de chá de açúcar refinado\n",
    "- 1 e 1/2 colheres de chá de fermento em pó\n",
    "- 1 ovo"
   ]
  },
  {
   "cell_type": "code",
   "execution_count": 28,
   "metadata": {},
   "outputs": [],
   "source": [
    "# começar uma lista de ingredientes para fazer biscoitos\n",
    "\n",
    "# Farinha de Trigo\n",
    "ovos = 1 \n",
    "recheio = False\n",
    "fermento = 1.5 * 3 \n",
    "#fermento\n",
    "acucar = 100.0\n",
    "manteiga = 100.0\n",
    "farinha = 300.0"
   ]
  },
  {
   "cell_type": "code",
   "execution_count": 29,
   "metadata": {},
   "outputs": [
    {
     "data": {
      "text/plain": [
       "str"
      ]
     },
     "execution_count": 29,
     "metadata": {},
     "output_type": "execute_result"
    }
   ],
   "source": [
    "type(receita)"
   ]
  },
  {
   "cell_type": "code",
   "execution_count": 30,
   "metadata": {},
   "outputs": [
    {
     "data": {
      "text/plain": [
       "int"
      ]
     },
     "execution_count": 30,
     "metadata": {},
     "output_type": "execute_result"
    }
   ],
   "source": [
    "type(ovos)"
   ]
  },
  {
   "cell_type": "code",
   "execution_count": 31,
   "metadata": {},
   "outputs": [
    {
     "data": {
      "text/plain": [
       "float"
      ]
     },
     "execution_count": 31,
     "metadata": {},
     "output_type": "execute_result"
    }
   ],
   "source": [
    "type(manteiga)"
   ]
  },
  {
   "cell_type": "code",
   "execution_count": 32,
   "metadata": {},
   "outputs": [
    {
     "data": {
      "text/plain": [
       "NoneType"
      ]
     },
     "execution_count": 32,
     "metadata": {},
     "output_type": "execute_result"
    }
   ],
   "source": [
    "type(geladeira)"
   ]
  },
  {
   "cell_type": "code",
   "execution_count": 33,
   "metadata": {},
   "outputs": [
    {
     "data": {
      "text/plain": [
       "bool"
      ]
     },
     "execution_count": 33,
     "metadata": {},
     "output_type": "execute_result"
    }
   ],
   "source": [
    "type(recheio)"
   ]
  },
  {
   "cell_type": "markdown",
   "metadata": {},
   "source": [
    "- Nulo é quando a variável existe mas não tem nada (exemplo: sem papel higiênico)\n",
    "- 0 é quando tem a variável e o valor dela é zero (exemplo: papel higiênico acabou e ficou apenas o rolo que firma o papel)"
   ]
  },
  {
   "cell_type": "markdown",
   "metadata": {},
   "source": [
    "## Estrutura de Dados"
   ]
  },
  {
   "cell_type": "markdown",
   "metadata": {},
   "source": [
    "Explicação sobre os tipos de estrutura de dados. \n",
    "- Listas\n",
    "- Tuplas\n",
    "- Dicionários\n",
    "\n",
    "Todos podem ser usados para armazenar e manipular dados."
   ]
  },
  {
   "cell_type": "markdown",
   "metadata": {},
   "source": [
    "Aplicação do conceito de estrutura de dados no contexto de receitas.\n",
    "\n",
    "- Dicionário (Livro de Receitas)\n",
    "Imagine que você vá buscar alguma receita em um livro. Você não vai folear até achar determinada receita. Para isso você olha o índice do livro. Dicionário é uma estrutura com chave e valor c/ índices. \n",
    "\n",
    "- Lista (Lista de Compras)\n",
    "Você vai realizar a compra dos itens para sua receita, mas a ordem de compra não importa, não necessariamente precisa de um índice. A sequência não importa.\n",
    "\n",
    "- Tuplas (Sequência de passos - Modo de preparo)\n",
    "No modo de preparo da receita existe uma ordem a ser seguida. "
   ]
  },
  {
   "cell_type": "markdown",
   "metadata": {},
   "source": [
    "### Dicionário"
   ]
  },
  {
   "cell_type": "code",
   "execution_count": 34,
   "metadata": {},
   "outputs": [],
   "source": [
    "receitas = {\n",
    "    'receita1': None,\n",
    "    'receita2': None,\n",
    "    'biscoitos \"os melhores do mundo\"': {\n",
    "        'ingredientes': [\n",
    "              'ovos'\n",
    "            , 'recheio'\n",
    "            , 'fermento'\n",
    "            , 'acucar'\n",
    "            , 'manteiga'\n",
    "            , 'farinha'\n",
    "        ], \n",
    "       'passo-apasso': (\n",
    "              '1. Bata o açúcar e a manteiga na batedeira.'\n",
    "            , '2. Acrescente o ovo e bata mais um pouco'\n",
    "            , '3. Vá acrescentando o fermento, misturando duas xícaras de farinha'\n",
    "            , '4. Coloque a massa e vá enfarinhando até parar de grudar as mãos'\n",
    "            , '5. Leve a massa à geladeira por 20 minutos'\n",
    "            , '6. Sobre a mesa enfarinhada, abra-a com um rolo. Corte os biscoitos'\n",
    "            , '7. Coloque em uma assadeira forrada com papel manteiga'\n",
    "            , '8. Leve para assar, fogo baixo, aproximandamente 15 minutos'  \n",
    "        ) }  \n",
    "  }"
   ]
  },
  {
   "cell_type": "code",
   "execution_count": 35,
   "metadata": {},
   "outputs": [
    {
     "data": {
      "text/plain": [
       "['ovos', 'recheio', 'fermento', 'acucar', 'manteiga', 'farinha']"
      ]
     },
     "execution_count": 35,
     "metadata": {},
     "output_type": "execute_result"
    }
   ],
   "source": [
    "receitas['biscoitos \"os melhores do mundo\"']['ingredientes']"
   ]
  },
  {
   "cell_type": "code",
   "execution_count": 36,
   "metadata": {},
   "outputs": [],
   "source": [
    "padaria = [\n",
    "      'ovos'\n",
    "    , 'fermento'\n",
    "    , 'acucar'\n",
    "    , 'manteiga'\n",
    "    , 'farinha'\n",
    "    , 'leite' \n",
    "    , 'queijo'\n",
    "    , 'presunto'\n",
    "    , 'agua'\n",
    "]"
   ]
  },
  {
   "cell_type": "code",
   "execution_count": 37,
   "metadata": {},
   "outputs": [
    {
     "data": {
      "text/plain": [
       "True"
      ]
     },
     "execution_count": 37,
     "metadata": {},
     "output_type": "execute_result"
    }
   ],
   "source": [
    "'ovos' in padaria"
   ]
  },
  {
   "cell_type": "code",
   "execution_count": 38,
   "metadata": {},
   "outputs": [
    {
     "data": {
      "text/plain": [
       "True"
      ]
     },
     "execution_count": 38,
     "metadata": {},
     "output_type": "execute_result"
    }
   ],
   "source": [
    "'fermento' in padaria"
   ]
  },
  {
   "cell_type": "code",
   "execution_count": 39,
   "metadata": {},
   "outputs": [
    {
     "data": {
      "text/plain": [
       "False"
      ]
     },
     "execution_count": 39,
     "metadata": {},
     "output_type": "execute_result"
    }
   ],
   "source": [
    "'queijo' in receitas['biscoitos \"os melhores do mundo\"']['ingredientes']"
   ]
  },
  {
   "cell_type": "code",
   "execution_count": 40,
   "metadata": {},
   "outputs": [],
   "source": [
    "ingredientes = [\n",
    "    'ovos', 'recheio', 'fermento', 'acucar', 'manteiga', 'farinha'\n",
    "]"
   ]
  },
  {
   "cell_type": "code",
   "execution_count": 41,
   "metadata": {},
   "outputs": [
    {
     "data": {
      "text/plain": [
       "['ovos', 'recheio', 'fermento', 'acucar', 'manteiga', 'farinha']"
      ]
     },
     "execution_count": 41,
     "metadata": {},
     "output_type": "execute_result"
    }
   ],
   "source": [
    "geladeira = ingredientes\n",
    "geladeira"
   ]
  },
  {
   "cell_type": "code",
   "execution_count": 42,
   "metadata": {},
   "outputs": [
    {
     "data": {
      "text/plain": [
       "['ovos', 'recheio', 'fermento', 'acucar', 'manteiga', 'farinha', 'queijo']"
      ]
     },
     "execution_count": 42,
     "metadata": {},
     "output_type": "execute_result"
    }
   ],
   "source": [
    "geladeira.append('queijo')\n",
    "geladeira"
   ]
  },
  {
   "cell_type": "code",
   "execution_count": 43,
   "metadata": {},
   "outputs": [
    {
     "data": {
      "text/plain": [
       "True"
      ]
     },
     "execution_count": 43,
     "metadata": {},
     "output_type": "execute_result"
    }
   ],
   "source": [
    "geladeira is ingredientes"
   ]
  },
  {
   "cell_type": "code",
   "execution_count": 44,
   "metadata": {},
   "outputs": [
    {
     "data": {
      "text/plain": [
       "['ovos', 'recheio', 'fermento', 'acucar', 'manteiga', 'farinha', 'queijo']"
      ]
     },
     "execution_count": 44,
     "metadata": {},
     "output_type": "execute_result"
    }
   ],
   "source": [
    "geladeira = ingredientes.copy()\n",
    "geladeira"
   ]
  },
  {
   "cell_type": "markdown",
   "metadata": {},
   "source": [
    "\n",
    "\n",
    "1. Atribuição Direta<br>\n",
    "No primeiro caso:<br>\n",
    "ingredientes = ['ovos', 'recheio', 'fermento', 'acucar', 'manteiga', 'farinha', 'queijo']<br>\n",
    "geladeira = ingredientes<br>\n",
    "Você está fazendo uma atribuição direta de ingredientes para geladeira. Isso significa que geladeira e ingredientes agora referenciam exatamente o mesmo objeto de lista na memória. Qualquer modificação feita na lista através da variável geladeira afetará também a lista ingredientes, e vice-versa, pois elas são, na verdade, a mesma lista.\n",
    "\n",
    "2. Uso do Método .copy()\n",
    "No segundo caso:<br>\n",
    "geladeira1 = ingredientes.copy() <br>\n",
    "Você está criando uma cópia superficial da lista ingredientes e atribuindo essa nova cópia à variável geladeira1. Isso significa que geladeira1 agora aponta para uma nova lista na memória, que contém os mesmos elementos que a lista ingredientes, mas é um objeto separado. Alterações feitas em geladeira1 não afetarão ingredientes, e alterações em ingredientes não afetarão geladeira1.\n",
    "\n",
    "Em resumo:<br>\n",
    "\n",
    "Atribuição direta (geladeira = ingredientes): geladeira e ingredientes apontam para o mesmo objeto de lista. Alterações em um refletem no outro.<br>\n",
    "Uso do .copy() (geladeira1 = ingredientes.copy()): geladeira1 é uma nova lista independente com os mesmos elementos de ingredientes. Alterações em um não afetam o outro.<br>\n",
    "A escolha entre essas abordagens depende da sua necessidade de trabalhar com listas independentes ou com múltiplas variáveis referenciando a mesma lista.<br>"
   ]
  },
  {
   "cell_type": "markdown",
   "metadata": {},
   "source": [
    "## Python Sequêncial"
   ]
  },
  {
   "cell_type": "markdown",
   "metadata": {},
   "source": [
    "Link: https://docs.python.org/pt-br/3/tutorial/index.html\n",
    "\n",
    "Lista de Exercícios: https://wiki.python.org.br/ListaDeExercicios\n",
    "\n",
    "Curso direcionado o que é mais utilizado como Engenheiro de Dados."
   ]
  },
  {
   "cell_type": "markdown",
   "metadata": {},
   "source": [
    "1. Faça um Programa que mostre a mensagem \"Alo mundo\" na tela."
   ]
  },
  {
   "cell_type": "code",
   "execution_count": 45,
   "metadata": {},
   "outputs": [
    {
     "name": "stdout",
     "output_type": "stream",
     "text": [
      "Alô mundo!\n"
     ]
    }
   ],
   "source": [
    "# imprima \"Alô Mundo!\" na tela\n",
    "print (\"Alô mundo!\")"
   ]
  },
  {
   "cell_type": "code",
   "execution_count": 46,
   "metadata": {},
   "outputs": [
    {
     "data": {
      "text/plain": [
       "<function print>"
      ]
     },
     "execution_count": 46,
     "metadata": {},
     "output_type": "execute_result"
    }
   ],
   "source": [
    "print"
   ]
  },
  {
   "cell_type": "markdown",
   "metadata": {},
   "source": [
    "2. Faça um Programa que peça um número e então mostre a mensagem O número informado foi [número].\n"
   ]
  },
  {
   "cell_type": "markdown",
   "metadata": {},
   "source": [
    "Variáveis\n",
    "\n",
    "`nome_da_variavel = valor_da_variavel`<br>\n",
    "`print(f\"mensagem {nome_da_variavel}\")`\n",
    "\n",
    "- não pode ter espaço <br>\n",
    "- não pode começar com número<br>\n",
    "- letras maiúsculas e minúsculas fazem diferença (case sensitive)<br>\n",
    "- recomenda=se não utilizar caracteres especiais a exceção do underline (_)<br>"
   ]
  },
  {
   "cell_type": "code",
   "execution_count": 49,
   "metadata": {},
   "outputs": [
    {
     "name": "stdout",
     "output_type": "stream",
     "text": [
      "O número informado foi: 10\n"
     ]
    }
   ],
   "source": [
    "numero = input(\"Digite um número:\")\n",
    "\n",
    "print(f\"O número informado foi: {numero}\")"
   ]
  },
  {
   "cell_type": "markdown",
   "metadata": {},
   "source": [
    "3. Faça um Programa que peça dos números e imprima a soma."
   ]
  },
  {
   "cell_type": "code",
   "execution_count": 53,
   "metadata": {},
   "outputs": [
    {
     "name": "stdout",
     "output_type": "stream",
     "text": [
      "A soma dos números é: 1010\n"
     ]
    }
   ],
   "source": [
    "n1 = input(\"Digite o primeiro número: \")\n",
    "n2 = input(\"Digite o segundo número: \")\n",
    "\n",
    "soma = n1 + n2\n",
    "\n",
    "print(f\"A soma dos números é: {soma}\")"
   ]
  },
  {
   "cell_type": "markdown",
   "metadata": {},
   "source": [
    "Os inputs retornam string (str), com isso precisamos converter o dado imputado.\n",
    "\n",
    "Tipo de dados:<br>\n",
    "- textos: str (string)\n",
    "- números: int (inteiros) e float (decimais)\n",
    "- booleanos: bool (verdadeiro ou falso) @ True or False\n",
    "- nulo: None"
   ]
  },
  {
   "cell_type": "code",
   "execution_count": 54,
   "metadata": {},
   "outputs": [
    {
     "data": {
      "text/plain": [
       "str"
      ]
     },
     "execution_count": 54,
     "metadata": {},
     "output_type": "execute_result"
    }
   ],
   "source": [
    "type(n1)"
   ]
  },
  {
   "cell_type": "code",
   "execution_count": 55,
   "metadata": {},
   "outputs": [
    {
     "name": "stdout",
     "output_type": "stream",
     "text": [
      "A soma dos números é: 20\n"
     ]
    }
   ],
   "source": [
    "n1 = input(\"Digite o primeiro número: \")\n",
    "n2 = input(\"Digite o segundo número: \")\n",
    "\n",
    "n1 = int(n1)\n",
    "n2 = int(n2)\n",
    "\n",
    "soma = n1 + n2\n",
    "\n",
    "print(f\"A soma dos números é: {soma}\")"
   ]
  },
  {
   "cell_type": "markdown",
   "metadata": {},
   "source": [
    "## Python Operadores"
   ]
  },
  {
   "cell_type": "markdown",
   "metadata": {},
   "source": [
    "### Operadores Matemáticos\n",
    "\n",
    "- soma: +\n",
    "- subtração: -\n",
    "- multiplicação: *\n",
    "- divisão: / \n",
    "- divisão de inteiros: //\n",
    "- resto da divisão(módulo): %"
   ]
  },
  {
   "cell_type": "code",
   "execution_count": 56,
   "metadata": {},
   "outputs": [
    {
     "data": {
      "text/plain": [
       "15"
      ]
     },
     "execution_count": 56,
     "metadata": {},
     "output_type": "execute_result"
    }
   ],
   "source": [
    "10 + 5"
   ]
  },
  {
   "cell_type": "code",
   "execution_count": 57,
   "metadata": {},
   "outputs": [
    {
     "data": {
      "text/plain": [
       "5"
      ]
     },
     "execution_count": 57,
     "metadata": {},
     "output_type": "execute_result"
    }
   ],
   "source": [
    "10 - 5"
   ]
  },
  {
   "cell_type": "code",
   "execution_count": 58,
   "metadata": {},
   "outputs": [
    {
     "data": {
      "text/plain": [
       "50"
      ]
     },
     "execution_count": 58,
     "metadata": {},
     "output_type": "execute_result"
    }
   ],
   "source": [
    "10 * 5"
   ]
  },
  {
   "cell_type": "code",
   "execution_count": 59,
   "metadata": {},
   "outputs": [
    {
     "data": {
      "text/plain": [
       "2.0"
      ]
     },
     "execution_count": 59,
     "metadata": {},
     "output_type": "execute_result"
    }
   ],
   "source": [
    "10 / 5"
   ]
  },
  {
   "cell_type": "code",
   "execution_count": 61,
   "metadata": {},
   "outputs": [
    {
     "data": {
      "text/plain": [
       "100000"
      ]
     },
     "execution_count": 61,
     "metadata": {},
     "output_type": "execute_result"
    }
   ],
   "source": [
    "10 ** 5 # Exponencial"
   ]
  },
  {
   "cell_type": "code",
   "execution_count": 62,
   "metadata": {},
   "outputs": [
    {
     "data": {
      "text/plain": [
       "float"
      ]
     },
     "execution_count": 62,
     "metadata": {},
     "output_type": "execute_result"
    }
   ],
   "source": [
    "type(10/5)"
   ]
  },
  {
   "cell_type": "code",
   "execution_count": 64,
   "metadata": {},
   "outputs": [
    {
     "data": {
      "text/plain": [
       "int"
      ]
     },
     "execution_count": 64,
     "metadata": {},
     "output_type": "execute_result"
    }
   ],
   "source": [
    "type(10**5)"
   ]
  },
  {
   "cell_type": "code",
   "execution_count": 65,
   "metadata": {},
   "outputs": [
    {
     "data": {
      "text/plain": [
       "2.2"
      ]
     },
     "execution_count": 65,
     "metadata": {},
     "output_type": "execute_result"
    }
   ],
   "source": [
    "11 / 5"
   ]
  },
  {
   "cell_type": "code",
   "execution_count": 66,
   "metadata": {},
   "outputs": [
    {
     "data": {
      "text/plain": [
       "2"
      ]
     },
     "execution_count": 66,
     "metadata": {},
     "output_type": "execute_result"
    }
   ],
   "source": [
    "11 // 5"
   ]
  },
  {
   "cell_type": "code",
   "execution_count": 67,
   "metadata": {},
   "outputs": [
    {
     "data": {
      "text/plain": [
       "1"
      ]
     },
     "execution_count": 67,
     "metadata": {},
     "output_type": "execute_result"
    }
   ],
   "source": [
    "11 % 5"
   ]
  },
  {
   "cell_type": "markdown",
   "metadata": {},
   "source": [
    "### Operadores relativos\n",
    "\n",
    "- igual: == (dois iguais -- apenas um é atribuição de variável)\n",
    "- diferente: != \n",
    "- maior que: >\n",
    "- menor que: <\n",
    "- maior ou igual: >=\n",
    "- menor ou igal: <=\n",
    "\n"
   ]
  },
  {
   "cell_type": "code",
   "execution_count": 69,
   "metadata": {},
   "outputs": [
    {
     "data": {
      "text/plain": [
       "True"
      ]
     },
     "execution_count": 69,
     "metadata": {},
     "output_type": "execute_result"
    }
   ],
   "source": [
    "10 == 10"
   ]
  },
  {
   "cell_type": "code",
   "execution_count": 70,
   "metadata": {},
   "outputs": [
    {
     "data": {
      "text/plain": [
       "False"
      ]
     },
     "execution_count": 70,
     "metadata": {},
     "output_type": "execute_result"
    }
   ],
   "source": [
    "10 != 10"
   ]
  },
  {
   "cell_type": "code",
   "execution_count": 71,
   "metadata": {},
   "outputs": [
    {
     "data": {
      "text/plain": [
       "False"
      ]
     },
     "execution_count": 71,
     "metadata": {},
     "output_type": "execute_result"
    }
   ],
   "source": [
    "10 > 11"
   ]
  },
  {
   "cell_type": "code",
   "execution_count": 72,
   "metadata": {},
   "outputs": [
    {
     "data": {
      "text/plain": [
       "True"
      ]
     },
     "execution_count": 72,
     "metadata": {},
     "output_type": "execute_result"
    }
   ],
   "source": [
    "11 > 10"
   ]
  },
  {
   "cell_type": "code",
   "execution_count": 73,
   "metadata": {},
   "outputs": [
    {
     "data": {
      "text/plain": [
       "True"
      ]
     },
     "execution_count": 73,
     "metadata": {},
     "output_type": "execute_result"
    }
   ],
   "source": [
    "10 < 11"
   ]
  },
  {
   "cell_type": "code",
   "execution_count": 74,
   "metadata": {},
   "outputs": [
    {
     "data": {
      "text/plain": [
       "True"
      ]
     },
     "execution_count": 74,
     "metadata": {},
     "output_type": "execute_result"
    }
   ],
   "source": [
    "10 >= 10"
   ]
  },
  {
   "cell_type": "code",
   "execution_count": 75,
   "metadata": {},
   "outputs": [
    {
     "data": {
      "text/plain": [
       "True"
      ]
     },
     "execution_count": 75,
     "metadata": {},
     "output_type": "execute_result"
    }
   ],
   "source": [
    "10 <= 10"
   ]
  },
  {
   "cell_type": "code",
   "execution_count": 76,
   "metadata": {},
   "outputs": [
    {
     "data": {
      "text/plain": [
       "False"
      ]
     },
     "execution_count": 76,
     "metadata": {},
     "output_type": "execute_result"
    }
   ],
   "source": [
    "10 < 10"
   ]
  },
  {
   "cell_type": "code",
   "execution_count": 77,
   "metadata": {},
   "outputs": [
    {
     "data": {
      "text/plain": [
       "False"
      ]
     },
     "execution_count": 77,
     "metadata": {},
     "output_type": "execute_result"
    }
   ],
   "source": [
    "10 != 10"
   ]
  },
  {
   "cell_type": "markdown",
   "metadata": {},
   "source": [
    "### Operadores Lógicos\n",
    "\n",
    "- não: not\n",
    "- ou: or\n",
    "- e: and"
   ]
  },
  {
   "cell_type": "code",
   "execution_count": 78,
   "metadata": {},
   "outputs": [
    {
     "data": {
      "text/plain": [
       "True"
      ]
     },
     "execution_count": 78,
     "metadata": {},
     "output_type": "execute_result"
    }
   ],
   "source": [
    "10 > 5"
   ]
  },
  {
   "cell_type": "code",
   "execution_count": 80,
   "metadata": {},
   "outputs": [
    {
     "data": {
      "text/plain": [
       "False"
      ]
     },
     "execution_count": 80,
     "metadata": {},
     "output_type": "execute_result"
    }
   ],
   "source": [
    "not 10 > 5 # o não inverte o resultado"
   ]
  },
  {
   "cell_type": "code",
   "execution_count": 82,
   "metadata": {},
   "outputs": [
    {
     "data": {
      "text/plain": [
       "True"
      ]
     },
     "execution_count": 82,
     "metadata": {},
     "output_type": "execute_result"
    }
   ],
   "source": [
    "10 > 5 and 4 > 3 # as duas condições devem ser verdadeiras"
   ]
  },
  {
   "cell_type": "code",
   "execution_count": 83,
   "metadata": {},
   "outputs": [
    {
     "data": {
      "text/plain": [
       "False"
      ]
     },
     "execution_count": 83,
     "metadata": {},
     "output_type": "execute_result"
    }
   ],
   "source": [
    "10 > 5 and 3 > 4"
   ]
  },
  {
   "cell_type": "code",
   "execution_count": 84,
   "metadata": {},
   "outputs": [
    {
     "data": {
      "text/plain": [
       "True"
      ]
     },
     "execution_count": 84,
     "metadata": {},
     "output_type": "execute_result"
    }
   ],
   "source": [
    "10 > 5 or 3 > 4 # uma das condições deve ser verdadeira"
   ]
  },
  {
   "cell_type": "markdown",
   "metadata": {},
   "source": [
    "### Estruturas de decisão\n",
    "\n"
   ]
  },
  {
   "cell_type": "markdown",
   "metadata": {},
   "source": [
    "1. Faça um programa que peça dois números e imprima o maior deles."
   ]
  },
  {
   "cell_type": "code",
   "execution_count": 93,
   "metadata": {},
   "outputs": [
    {
     "name": "stdout",
     "output_type": "stream",
     "text": [
      "2\n"
     ]
    }
   ],
   "source": [
    "num1 = 2\n",
    "num2 = 2\n",
    "\n",
    "if num1 > num2: # contexto de decisão (geralmente iniciada por :)\n",
    "    print(num1) # essa linha será executada se a condição for verdadeira\n",
    "else:\n",
    "    print(num2) # essa linha será executada se a condição for falsa\n"
   ]
  },
  {
   "cell_type": "markdown",
   "metadata": {},
   "source": [
    "Perceba que o código acima, traz o retorno errado quando ambos os números são iguais, pois 2 não é maior que 2."
   ]
  },
  {
   "cell_type": "code",
   "execution_count": 92,
   "metadata": {},
   "outputs": [
    {
     "name": "stdout",
     "output_type": "stream",
     "text": [
      " O número 10 é maior que o número 5\n"
     ]
    }
   ],
   "source": [
    "num1 = int(input(\"Digite o primeiro número: \"))\n",
    "num2 = int(input(\"Digite o segundo número: \"))\n",
    "\n",
    "if num1 > num2: # contexto de decisão (geralmente iniciada por :)\n",
    "    print(f\"O número {num1} é maior que o número {num2}\") # essa linha será executada se a condição for verdadeira\n",
    "elif num1 < num2: # contexto de decisão (geralmente iniciada por :)\n",
    "    print(f\" O número {num2} é maior que o número {num1}\") # essa linha será executada se a condição for falsa\n",
    "elif num1 == num2:\n",
    "    print(\"Os números são iguais\")"
   ]
  },
  {
   "cell_type": "markdown",
   "metadata": {},
   "source": [
    "2. Faça um Programa que verifique se uma letra digitada é vogal ou consoante."
   ]
  },
  {
   "cell_type": "code",
   "execution_count": 100,
   "metadata": {},
   "outputs": [
    {
     "name": "stdout",
     "output_type": "stream",
     "text": [
      "A letra é uma consoante\n"
     ]
    }
   ],
   "source": [
    "letra = input(\"Digite uma letra: \")\n",
    "\n",
    "if letra == 'a':\n",
    "    print(\"A letra é uma vogal\")\n",
    "elif letra == 'e':\n",
    "    print(\"A letra é uma vogal\")\n",
    "elif letra == 'i':\n",
    "    print(\"A letra é uma vogal\")\n",
    "elif letra == 'o':\n",
    "    print(\"A letra é uma vogal\")\n",
    "elif letra == 'u':\n",
    "    print(\"A letra é uma vogal\")\n",
    "else:\n",
    "    print(\"A letra é uma consoante\")"
   ]
  },
  {
   "cell_type": "code",
   "execution_count": 105,
   "metadata": {},
   "outputs": [
    {
     "name": "stdout",
     "output_type": "stream",
     "text": [
      "A letra: 'a' é uma vogal\n"
     ]
    }
   ],
   "source": [
    "vogais = ['a', 'e', 'i', 'o', 'u']\n",
    "consoantes = ['b', 'c', 'd', 'f', 'g', 'h', 'j', 'k', 'l', 'm', 'n', 'p', 'q', 'r', 's', 't', 'v', 'w', 'x', 'y', 'z']\n",
    "\n",
    "letra = input(\"Digite uma letra: \").lower() # converte a letra para minúscula \n",
    "\n",
    "if letra in vogais:\n",
    "    print(f\"A letra: '{letra}' é uma vogal\")\n",
    "elif letra in consoantes:\n",
    "    print(f\"A letra: '{letra}' é uma consoante\")\n",
    "else:\n",
    "    print(f\"A letra: '{letra}' não é uma letra válida\")\n"
   ]
  },
  {
   "cell_type": "markdown",
   "metadata": {},
   "source": [
    "3. Faça um programa para leitura de duas notas parciais de um aluno. O programa deve calcular a média alcançada por aluno e apresentar:\n",
    "\n",
    "- A mensagem \"Aprovado\", se a média alcançada for maior ou igual a sete;\n",
    "- A mensagem \"Reprovado\", se a média for menor do que sete;\n",
    "- A mensagem \"Aprovado com Distinção se a média for igual a dez."
   ]
  },
  {
   "cell_type": "code",
   "execution_count": null,
   "metadata": {},
   "outputs": [],
   "source": [
    "n1 = float(input(\"Digite a primeira nota: \"))\n",
    "n2 = float(input(\"Digite a segunda nota: \"))\n",
    "\n",
    "media = (n1 + n2) / 2"
   ]
  },
  {
   "cell_type": "code",
   "execution_count": 108,
   "metadata": {},
   "outputs": [
    {
     "name": "stdout",
     "output_type": "stream",
     "text": [
      "O aluno Felipe foi aprovado com média 9.5\n"
     ]
    }
   ],
   "source": [
    "aluno = input(\"Digite o nome do aluno:\")\n",
    "n1 = float(input(\"Digite a nota 1: \"))\n",
    "n2 = float(input(\"Digite a nota 2: \"))\n",
    "media = (n2 + n1) / 2\n",
    "\n",
    "if media >= 10:\n",
    "    print(f\"O aluno {aluno} foi aprovado com distinção com média {media}\")\n",
    "elif media >= 7:\n",
    "    print(f\"O aluno {aluno} foi aprovado com média {media}\")\n",
    "else:\n",
    "    print(f\"O aluno {aluno} foi reprovado com média {media}\")"
   ]
  },
  {
   "cell_type": "code",
   "execution_count": null,
   "metadata": {},
   "outputs": [],
   "source": []
  }
 ],
 "metadata": {
  "kernelspec": {
   "display_name": "Python 3",
   "language": "python",
   "name": "python3"
  },
  "language_info": {
   "codemirror_mode": {
    "name": "ipython",
    "version": 3
   },
   "file_extension": ".py",
   "mimetype": "text/x-python",
   "name": "python",
   "nbconvert_exporter": "python",
   "pygments_lexer": "ipython3",
   "version": "3.10.5"
  }
 },
 "nbformat": 4,
 "nbformat_minor": 2
}
