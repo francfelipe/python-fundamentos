{
 "cells": [
  {
   "cell_type": "markdown",
   "metadata": {},
   "source": [
    "# Python Fundamentos"
   ]
  },
  {
   "cell_type": "markdown",
   "metadata": {},
   "source": [
    "## Variáveis"
   ]
  },
  {
   "cell_type": "code",
   "execution_count": 1,
   "metadata": {},
   "outputs": [
    {
     "data": {
      "text/plain": [
       "'biscoito'"
      ]
     },
     "execution_count": 1,
     "metadata": {},
     "output_type": "execute_result"
    }
   ],
   "source": [
    "# Vamos fazer uma receita de bolo para o almoço de domingo\n",
    "receita = 'biscoito' # essa é a receita do dia\n",
    "receita"
   ]
  },
  {
   "cell_type": "code",
   "execution_count": 2,
   "metadata": {},
   "outputs": [
    {
     "data": {
      "text/plain": [
       "\"cookies 'n Cream\""
      ]
     },
     "execution_count": 2,
     "metadata": {},
     "output_type": "execute_result"
    }
   ],
   "source": [
    "# Pode ser assim \n",
    "receita = \"cookies 'n Cream\" # essa é a receita do dia\n",
    "receita"
   ]
  },
  {
   "cell_type": "code",
   "execution_count": 3,
   "metadata": {},
   "outputs": [],
   "source": [
    "# podemos ter variáveis vaizias \n",
    "geladeira = None\n",
    "geladeira"
   ]
  },
  {
   "cell_type": "markdown",
   "metadata": {},
   "source": [
    "**Importante**\n",
    "- Nomes de variáveis podem contem letras e/ou números (alfanuméricos), e/ou underscore (_);\n",
    "- não pode começar com dígitos\n",
    "- evite caracteres acentuados e outros símbolos\n",
    "- podem ser longos"
   ]
  },
  {
   "cell_type": "code",
   "execution_count": 4,
   "metadata": {},
   "outputs": [
    {
     "data": {
      "text/plain": [
       "0"
      ]
     },
     "execution_count": 4,
     "metadata": {},
     "output_type": "execute_result"
    }
   ],
   "source": [
    "_geladeira = 0\n",
    "_geladeira"
   ]
  },
  {
   "cell_type": "markdown",
   "metadata": {},
   "source": [
    "## Tipo de dados"
   ]
  },
  {
   "cell_type": "markdown",
   "metadata": {},
   "source": [
    "Texto -> strings (str) <br>\n",
    "numeros -> integer (int) <br>\n",
    "decimais -> float (float) <br>\n",
    "Nulo -> None <br>\n",
    "Booleano (verdadeiro ou falso) -> bool <br>"
   ]
  },
  {
   "cell_type": "code",
   "execution_count": 5,
   "metadata": {},
   "outputs": [],
   "source": [
    "geladeira = None # Geladeira está vazia"
   ]
  },
  {
   "cell_type": "markdown",
   "metadata": {},
   "source": [
    "Ingrediantes\n",
    "\n",
    "- 3 xícaras de chá de farinha de trigo\n",
    "- 1 xícara de chá de manteiga sem sal à temperatura ambiente\n",
    "- 1 xícara de chá de açúcar refinado\n",
    "- 1 e 1/2 colheres de chá de fermento em pó\n",
    "- 1 ovo"
   ]
  },
  {
   "cell_type": "code",
   "execution_count": 6,
   "metadata": {},
   "outputs": [],
   "source": [
    "# começar uma lista de ingredientes para fazer biscoitos\n",
    "\n",
    "# Farinha de Trigo\n",
    "ovos = 1 \n",
    "recheio = False\n",
    "fermento = 1.5 * 3 \n",
    "#fermento\n",
    "acucar = 100.0\n",
    "manteiga = 100.0\n",
    "farinha = 300.0"
   ]
  },
  {
   "cell_type": "code",
   "execution_count": 7,
   "metadata": {},
   "outputs": [
    {
     "data": {
      "text/plain": [
       "str"
      ]
     },
     "execution_count": 7,
     "metadata": {},
     "output_type": "execute_result"
    }
   ],
   "source": [
    "type(receita)"
   ]
  },
  {
   "cell_type": "code",
   "execution_count": 8,
   "metadata": {},
   "outputs": [
    {
     "data": {
      "text/plain": [
       "int"
      ]
     },
     "execution_count": 8,
     "metadata": {},
     "output_type": "execute_result"
    }
   ],
   "source": [
    "type(ovos)"
   ]
  },
  {
   "cell_type": "code",
   "execution_count": 9,
   "metadata": {},
   "outputs": [
    {
     "data": {
      "text/plain": [
       "float"
      ]
     },
     "execution_count": 9,
     "metadata": {},
     "output_type": "execute_result"
    }
   ],
   "source": [
    "type(manteiga)"
   ]
  },
  {
   "cell_type": "code",
   "execution_count": 10,
   "metadata": {},
   "outputs": [
    {
     "data": {
      "text/plain": [
       "NoneType"
      ]
     },
     "execution_count": 10,
     "metadata": {},
     "output_type": "execute_result"
    }
   ],
   "source": [
    "type(geladeira)"
   ]
  },
  {
   "cell_type": "code",
   "execution_count": 11,
   "metadata": {},
   "outputs": [
    {
     "data": {
      "text/plain": [
       "bool"
      ]
     },
     "execution_count": 11,
     "metadata": {},
     "output_type": "execute_result"
    }
   ],
   "source": [
    "type(recheio)"
   ]
  },
  {
   "cell_type": "markdown",
   "metadata": {},
   "source": [
    "- Nulo é quando a variável existe mas não tem nada (exemplo: sem papel higiênico)\n",
    "- 0 é quando tem a variável e o valor dela é zero (exemplo: papel higiênico acabou e ficou apenas o rolo que firma o papel)"
   ]
  },
  {
   "cell_type": "markdown",
   "metadata": {},
   "source": [
    "## Estrutura de Dados"
   ]
  },
  {
   "cell_type": "markdown",
   "metadata": {},
   "source": [
    "Explicação sobre os tipos de estrutura de dados. \n",
    "- Listas\n",
    "- Tuplas\n",
    "- Dicionários\n",
    "\n",
    "Todos podem ser usados para armazenar e manipular dados."
   ]
  },
  {
   "cell_type": "markdown",
   "metadata": {},
   "source": [
    "Aplicação do conceito de estrutura de dados no contexto de receitas.\n",
    "\n",
    "- Dicionário (Livro de Receitas)\n",
    "Imagine que você vá buscar alguma receita em um livro. Você não vai folear até achar determinada receita. Para isso você olha o índice do livro. Dicionário é uma estrutura com chave e valor c/ índices. \n",
    "\n",
    "- Lista (Lista de Compras)\n",
    "Você vai realizar a compra dos itens para sua receita, mas a ordem de compra não importa, não necessariamente precisa de um índice. A sequência não importa.\n",
    "\n",
    "- Tuplas (Sequência de passos - Modo de preparo)\n",
    "No modo de preparo da receita existe uma ordem a ser seguida. "
   ]
  },
  {
   "cell_type": "markdown",
   "metadata": {},
   "source": [
    "### Dicionário"
   ]
  },
  {
   "cell_type": "code",
   "execution_count": 12,
   "metadata": {},
   "outputs": [],
   "source": [
    "receitas = {\n",
    "    'receita1': None,\n",
    "    'receita2': None,\n",
    "    'biscoitos \"os melhores do mundo\"': {\n",
    "        'ingredientes': [\n",
    "              'ovos'\n",
    "            , 'recheio'\n",
    "            , 'fermento'\n",
    "            , 'acucar'\n",
    "            , 'manteiga'\n",
    "            , 'farinha'\n",
    "        ], \n",
    "       'passo-apasso': (\n",
    "              '1. Bata o açúcar e a manteiga na batedeira.'\n",
    "            , '2. Acrescente o ovo e bata mais um pouco'\n",
    "            , '3. Vá acrescentando o fermento, misturando duas xícaras de farinha'\n",
    "            , '4. Coloque a massa e vá enfarinhando até parar de grudar as mãos'\n",
    "            , '5. Leve a massa à geladeira por 20 minutos'\n",
    "            , '6. Sobre a mesa enfarinhada, abra-a com um rolo. Corte os biscoitos'\n",
    "            , '7. Coloque em uma assadeira forrada com papel manteiga'\n",
    "            , '8. Leve para assar, fogo baixo, aproximandamente 15 minutos'  \n",
    "        ) }  \n",
    "  }"
   ]
  },
  {
   "cell_type": "code",
   "execution_count": 13,
   "metadata": {},
   "outputs": [
    {
     "data": {
      "text/plain": [
       "['ovos', 'recheio', 'fermento', 'acucar', 'manteiga', 'farinha']"
      ]
     },
     "execution_count": 13,
     "metadata": {},
     "output_type": "execute_result"
    }
   ],
   "source": [
    "receitas['biscoitos \"os melhores do mundo\"']['ingredientes']"
   ]
  },
  {
   "cell_type": "code",
   "execution_count": 14,
   "metadata": {},
   "outputs": [],
   "source": [
    "padaria = [\n",
    "      'ovos'\n",
    "    , 'fermento'\n",
    "    , 'acucar'\n",
    "    , 'manteiga'\n",
    "    , 'farinha'\n",
    "    , 'leite' \n",
    "    , 'queijo'\n",
    "    , 'presunto'\n",
    "    , 'agua'\n",
    "]"
   ]
  },
  {
   "cell_type": "code",
   "execution_count": 15,
   "metadata": {},
   "outputs": [
    {
     "data": {
      "text/plain": [
       "True"
      ]
     },
     "execution_count": 15,
     "metadata": {},
     "output_type": "execute_result"
    }
   ],
   "source": [
    "'ovos' in padaria"
   ]
  },
  {
   "cell_type": "code",
   "execution_count": 16,
   "metadata": {},
   "outputs": [
    {
     "data": {
      "text/plain": [
       "True"
      ]
     },
     "execution_count": 16,
     "metadata": {},
     "output_type": "execute_result"
    }
   ],
   "source": [
    "'fermento' in padaria"
   ]
  },
  {
   "cell_type": "code",
   "execution_count": 17,
   "metadata": {},
   "outputs": [
    {
     "data": {
      "text/plain": [
       "False"
      ]
     },
     "execution_count": 17,
     "metadata": {},
     "output_type": "execute_result"
    }
   ],
   "source": [
    "'queijo' in receitas['biscoitos \"os melhores do mundo\"']['ingredientes']"
   ]
  },
  {
   "cell_type": "code",
   "execution_count": 18,
   "metadata": {},
   "outputs": [],
   "source": [
    "ingredientes = [\n",
    "    'ovos', 'recheio', 'fermento', 'acucar', 'manteiga', 'farinha'\n",
    "]"
   ]
  },
  {
   "cell_type": "code",
   "execution_count": 19,
   "metadata": {},
   "outputs": [
    {
     "data": {
      "text/plain": [
       "['ovos', 'recheio', 'fermento', 'acucar', 'manteiga', 'farinha']"
      ]
     },
     "execution_count": 19,
     "metadata": {},
     "output_type": "execute_result"
    }
   ],
   "source": [
    "geladeira = ingredientes\n",
    "geladeira"
   ]
  },
  {
   "cell_type": "code",
   "execution_count": 20,
   "metadata": {},
   "outputs": [
    {
     "data": {
      "text/plain": [
       "['ovos', 'recheio', 'fermento', 'acucar', 'manteiga', 'farinha', 'queijo']"
      ]
     },
     "execution_count": 20,
     "metadata": {},
     "output_type": "execute_result"
    }
   ],
   "source": [
    "geladeira.append('queijo')\n",
    "geladeira"
   ]
  },
  {
   "cell_type": "code",
   "execution_count": 21,
   "metadata": {},
   "outputs": [
    {
     "data": {
      "text/plain": [
       "True"
      ]
     },
     "execution_count": 21,
     "metadata": {},
     "output_type": "execute_result"
    }
   ],
   "source": [
    "geladeira is ingredientes"
   ]
  },
  {
   "cell_type": "code",
   "execution_count": 22,
   "metadata": {},
   "outputs": [
    {
     "data": {
      "text/plain": [
       "['ovos', 'recheio', 'fermento', 'acucar', 'manteiga', 'farinha', 'queijo']"
      ]
     },
     "execution_count": 22,
     "metadata": {},
     "output_type": "execute_result"
    }
   ],
   "source": [
    "geladeira = ingredientes.copy()\n",
    "geladeira"
   ]
  },
  {
   "cell_type": "markdown",
   "metadata": {},
   "source": [
    "\n",
    "\n",
    "1. Atribuição Direta<br>\n",
    "No primeiro caso:<br>\n",
    "ingredientes = ['ovos', 'recheio', 'fermento', 'acucar', 'manteiga', 'farinha', 'queijo']<br>\n",
    "geladeira = ingredientes<br>\n",
    "Você está fazendo uma atribuição direta de ingredientes para geladeira. Isso significa que geladeira e ingredientes agora referenciam exatamente o mesmo objeto de lista na memória. Qualquer modificação feita na lista através da variável geladeira afetará também a lista ingredientes, e vice-versa, pois elas são, na verdade, a mesma lista.\n",
    "\n",
    "2. Uso do Método .copy()\n",
    "No segundo caso:<br>\n",
    "geladeira1 = ingredientes.copy() <br>\n",
    "Você está criando uma cópia superficial da lista ingredientes e atribuindo essa nova cópia à variável geladeira1. Isso significa que geladeira1 agora aponta para uma nova lista na memória, que contém os mesmos elementos que a lista ingredientes, mas é um objeto separado. Alterações feitas em geladeira1 não afetarão ingredientes, e alterações em ingredientes não afetarão geladeira1.\n",
    "\n",
    "Em resumo:<br>\n",
    "\n",
    "Atribuição direta (geladeira = ingredientes): geladeira e ingredientes apontam para o mesmo objeto de lista. Alterações em um refletem no outro.<br>\n",
    "Uso do .copy() (geladeira1 = ingredientes.copy()): geladeira1 é uma nova lista independente com os mesmos elementos de ingredientes. Alterações em um não afetam o outro.<br>\n",
    "A escolha entre essas abordagens depende da sua necessidade de trabalhar com listas independentes ou com múltiplas variáveis referenciando a mesma lista.<br>"
   ]
  },
  {
   "cell_type": "markdown",
   "metadata": {},
   "source": [
    "## Python Sequêncial"
   ]
  },
  {
   "cell_type": "markdown",
   "metadata": {},
   "source": []
  }
 ],
 "metadata": {
  "kernelspec": {
   "display_name": "Python 3",
   "language": "python",
   "name": "python3"
  },
  "language_info": {
   "codemirror_mode": {
    "name": "ipython",
    "version": 3
   },
   "file_extension": ".py",
   "mimetype": "text/x-python",
   "name": "python",
   "nbconvert_exporter": "python",
   "pygments_lexer": "ipython3",
   "version": "3.10.5"
  }
 },
 "nbformat": 4,
 "nbformat_minor": 2
}
