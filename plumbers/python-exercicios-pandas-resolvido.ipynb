{
 "cells": [
  {
   "cell_type": "markdown",
   "metadata": {},
   "source": [
    "# Pandas Exercícios"
   ]
  },
  {
   "cell_type": "markdown",
   "metadata": {},
   "source": [
    "Contexto: Iremos simular a realização de uma prova de redação a nível nacional. Sendo assim:"
   ]
  },
  {
   "cell_type": "markdown",
   "metadata": {},
   "source": [
    "1. Cria um dataframe pandas com 1000 amostras em cada uma das seguintes colunas: <br>\n",
    "1.1. Idade: números inteiros aleatórios entre 0 e 100 (inclusos). <br>\n",
    "1.2. Data: datas aleatórias entre 01/01/2000 até 31/01/2000. <br>\n",
    "1.3. Nota: Números decimais entre 0 e 1000. <br>\n",
    "1.4. Sexo: Valores aleatórios de M ou F. <br>\n",
    "1.5: Estado: Valores aleatórios entre os estados do Brasil. <br>"
   ]
  },
  {
   "cell_type": "code",
   "execution_count": 5,
   "metadata": {},
   "outputs": [],
   "source": [
    "import numpy as np\n",
    "import pandas as pd\n"
   ]
  },
  {
   "cell_type": "code",
   "execution_count": 7,
   "metadata": {},
   "outputs": [
    {
     "data": {
      "text/html": [
       "<div>\n",
       "<style scoped>\n",
       "    .dataframe tbody tr th:only-of-type {\n",
       "        vertical-align: middle;\n",
       "    }\n",
       "\n",
       "    .dataframe tbody tr th {\n",
       "        vertical-align: top;\n",
       "    }\n",
       "\n",
       "    .dataframe thead th {\n",
       "        text-align: right;\n",
       "    }\n",
       "</style>\n",
       "<table border=\"1\" class=\"dataframe\">\n",
       "  <thead>\n",
       "    <tr style=\"text-align: right;\">\n",
       "      <th></th>\n",
       "      <th>idade</th>\n",
       "      <th>data</th>\n",
       "      <th>notas</th>\n",
       "      <th>sexo</th>\n",
       "      <th>uf</th>\n",
       "    </tr>\n",
       "  </thead>\n",
       "  <tbody>\n",
       "    <tr>\n",
       "      <th>0</th>\n",
       "      <td>44</td>\n",
       "      <td>2000-01-15</td>\n",
       "      <td>102.456526</td>\n",
       "      <td>F</td>\n",
       "      <td>RR</td>\n",
       "    </tr>\n",
       "    <tr>\n",
       "      <th>1</th>\n",
       "      <td>47</td>\n",
       "      <td>2000-01-06</td>\n",
       "      <td>397.065535</td>\n",
       "      <td>F</td>\n",
       "      <td>RS</td>\n",
       "    </tr>\n",
       "    <tr>\n",
       "      <th>2</th>\n",
       "      <td>64</td>\n",
       "      <td>2000-01-23</td>\n",
       "      <td>276.677395</td>\n",
       "      <td>M</td>\n",
       "      <td>RR</td>\n",
       "    </tr>\n",
       "    <tr>\n",
       "      <th>3</th>\n",
       "      <td>67</td>\n",
       "      <td>2000-01-20</td>\n",
       "      <td>506.393554</td>\n",
       "      <td>F</td>\n",
       "      <td>MT</td>\n",
       "    </tr>\n",
       "    <tr>\n",
       "      <th>4</th>\n",
       "      <td>67</td>\n",
       "      <td>2000-01-16</td>\n",
       "      <td>349.932670</td>\n",
       "      <td>F</td>\n",
       "      <td>SP</td>\n",
       "    </tr>\n",
       "  </tbody>\n",
       "</table>\n",
       "</div>"
      ],
      "text/plain": [
       "   idade       data       notas sexo  uf\n",
       "0     44 2000-01-15  102.456526    F  RR\n",
       "1     47 2000-01-06  397.065535    F  RS\n",
       "2     64 2000-01-23  276.677395    M  RR\n",
       "3     67 2000-01-20  506.393554    F  MT\n",
       "4     67 2000-01-16  349.932670    F  SP"
      ]
     },
     "execution_count": 7,
     "metadata": {},
     "output_type": "execute_result"
    }
   ],
   "source": [
    "#Seetup\n",
    "np.random.seed(0)\n",
    "amostra = 1000\n",
    "datas = pd.date_range('2000-01-01', '2000-01-31')\n",
    "sexo = ['M', 'F']\n",
    "uf = [\n",
    "    'AC', 'AL', 'AP', 'AM', 'BA', 'CE', 'DF', 'ES', 'GO', 'MA', 'MT',\n",
    "    'MS', 'MG', 'PA', 'PB', 'PR', 'PE', 'PI', 'RJ', 'RN', 'RS', 'RO',\n",
    "    'RR', 'SC', 'SP', 'SE', 'TO' \n",
    "]\n",
    "\n",
    "df = pd.DataFrame ({\n",
    "    'idade': np.random.randint(0, 101, amostra),\n",
    "    'data': np.random.choice(datas, amostra),\n",
    "    'notas': np.random.uniform(0, 1000.1, amostra),\n",
    "    'sexo': np.random.choice(sexo, amostra),\n",
    "    'uf': np.random.choice(uf, amostra)\n",
    "})\n",
    "df.head()"
   ]
  },
  {
   "cell_type": "code",
   "execution_count": 9,
   "metadata": {},
   "outputs": [
    {
     "name": "stdout",
     "output_type": "stream",
     "text": [
      "<class 'pandas.core.frame.DataFrame'>\n",
      "RangeIndex: 1000 entries, 0 to 999\n",
      "Data columns (total 5 columns):\n",
      " #   Column  Non-Null Count  Dtype         \n",
      "---  ------  --------------  -----         \n",
      " 0   idade   1000 non-null   int64         \n",
      " 1   data    1000 non-null   datetime64[ns]\n",
      " 2   notas   1000 non-null   float64       \n",
      " 3   sexo    1000 non-null   object        \n",
      " 4   uf      1000 non-null   object        \n",
      "dtypes: datetime64[ns](1), float64(1), int64(1), object(2)\n",
      "memory usage: 39.2+ KB\n"
     ]
    }
   ],
   "source": [
    "df.info()"
   ]
  },
  {
   "cell_type": "markdown",
   "metadata": {},
   "source": [
    "2. Utilizando pandas, realize as seguintes alterações no dataset:<br>\n",
    "2.1. Preencha as notas nulas com valor 0, simulando uma atribuição automática do sistema.<br>\n",
    "2.2. Preencha as notas nulas com valor 0, simulando uma atribuição automática do sistema.<br>\n",
    "2.3. Remova alunos com idades inferiores a 18 e superiores a 80, simulando uma filtragem automática do sistema para alunos com idades incosistentes.<br>\n",
    "2.4. Crie um novo campo de aprovado para os alunos restantes que obtiveram nota igual ou superior a 600. Simulando uma correção automática.<br>\n",
    "2.5. Crie um campo novo indicando o dia da semana para todas as datas.<br>\n"
   ]
  },
  {
   "cell_type": "markdown",
   "metadata": {},
   "source": [
    "3. Gere um relatório com os seguintes tópicos:<br>\n",
    "3.1. Tabela cruzada de participantes de cada sexo por estado.<br>\n",
    "3.2. Gráfico de pizza da quantidade de aprovados por sexo, e um de barras com a quantidade de aprovados por estado.<br>\n",
    "3.3. Gráfico de pontos de nota por idade, colorindo por sexo.<br>\n",
    "3.3.1. Gráfico de barras com a participação por dia da semana e por dia do mês.<br>\n",
    "3.3.2. Gráfico de pontos das notas por dia da semana.<br>\n"
   ]
  },
  {
   "cell_type": "markdown",
   "metadata": {},
   "source": [
    "4. Salve um arquivo csv com as notas dos 100 melhores alunos ordenados da melhor nota para a pior nota."
   ]
  },
  {
   "cell_type": "markdown",
   "metadata": {},
   "source": []
  }
 ],
 "metadata": {
  "kernelspec": {
   "display_name": ".venv",
   "language": "python",
   "name": "python3"
  },
  "language_info": {
   "codemirror_mode": {
    "name": "ipython",
    "version": 3
   },
   "file_extension": ".py",
   "mimetype": "text/x-python",
   "name": "python",
   "nbconvert_exporter": "python",
   "pygments_lexer": "ipython3",
   "version": "3.10.5"
  }
 },
 "nbformat": 4,
 "nbformat_minor": 2
}
